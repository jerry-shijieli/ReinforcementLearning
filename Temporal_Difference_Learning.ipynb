{
 "cells": [
  {
   "cell_type": "code",
   "execution_count": 1,
   "metadata": {
    "collapsed": true
   },
   "outputs": [],
   "source": [
    "import numpy as np\n",
    "import random as rnd"
   ]
  },
  {
   "cell_type": "code",
   "execution_count": 2,
   "metadata": {
    "collapsed": true
   },
   "outputs": [],
   "source": [
    "# define the environment and agent paramters\n",
    "num_of_col = 5\n",
    "num_of_row = 4\n",
    "num_of_element = num_of_col * num_of_row\n",
    "regular_reward_value = 0\n",
    "goal_reward_value = 100\n",
    "goal_col_index = 5\n",
    "goal_row_index = 4\n",
    "start_col_index = 1\n",
    "start_row_index = 1\n",
    "\n",
    "gamma = 0.9 # discount rate"
   ]
  },
  {
   "cell_type": "code",
   "execution_count": 4,
   "metadata": {
    "collapsed": false
   },
   "outputs": [
    {
     "name": "stdout",
     "output_type": "stream",
     "text": [
      "[[  0   0   0   0   0]\n",
      " [  0   0   0   0   0]\n",
      " [  0   0   0   0   0]\n",
      " [  0   0   0   0 100]]\n"
     ]
    }
   ],
   "source": [
    "# Reward matrix \n",
    "reward_matrix_values = [0 for _ in range(num_of_col*num_of_row)]\n",
    "reward_matrix = np.matrix(reward_matrix_values).reshape((num_of_row, num_of_col))\n",
    "reward_matrix[goal_row_index-1, goal_col_index-1] = goal_reward_value\n",
    "print reward_matrix"
   ]
  },
  {
   "cell_type": "code",
   "execution_count": 6,
   "metadata": {
    "collapsed": false
   },
   "outputs": [
    {
     "name": "stdout",
     "output_type": "stream",
     "text": [
      "[[0 0 0 0 0]\n",
      " [0 0 0 0 0]\n",
      " [0 0 0 0 0]\n",
      " [0 0 0 0 0]]\n"
     ]
    }
   ],
   "source": [
    "# state value matrix\n",
    "# initialize V\n",
    "V_values = [0 for _ in range(num_of_col*num_of_row)]\n",
    "V_matrix = np.matrix(V_values).reshape((num_of_row, num_of_col))\n",
    "print V_matrix"
   ]
  },
  {
   "cell_type": "code",
   "execution_count": 7,
   "metadata": {
    "collapsed": true
   },
   "outputs": [],
   "source": [
    "# initialize learning parameters\n",
    "alpha = 1.0 # learning rate\n",
    "epsilon = 0.0 # explore probability threshold\n",
    "total_episode = 10000 # total number of training episodes"
   ]
  },
  {
   "cell_type": "code",
   "execution_count": null,
   "metadata": {
    "collapsed": true
   },
   "outputs": [],
   "source": []
  }
 ],
 "metadata": {
  "kernelspec": {
   "display_name": "Python 2",
   "language": "python",
   "name": "python2"
  },
  "language_info": {
   "codemirror_mode": {
    "name": "ipython",
    "version": 2
   },
   "file_extension": ".py",
   "mimetype": "text/x-python",
   "name": "python",
   "nbconvert_exporter": "python",
   "pygments_lexer": "ipython2",
   "version": "2.7.12"
  }
 },
 "nbformat": 4,
 "nbformat_minor": 0
}
